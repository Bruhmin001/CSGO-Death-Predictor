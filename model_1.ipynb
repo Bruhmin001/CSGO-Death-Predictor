{
 "cells": [
  {
   "cell_type": "code",
   "execution_count": 8,
   "metadata": {},
   "outputs": [],
   "source": [
    "import seaborn as sns\n",
    "from sklearn.preprocessing import scale\n",
    "import sklearn.linear_model as lm\n",
    "import matplotlib.pyplot as plt\n",
    "import statsmodels.formula.api as smf\n",
    "import scipy.stats as stats\n",
    "from statsmodels.stats.outliers_influence import variance_inflation_factor\n",
    "import numpy as np\n",
    "import pandas as pd\n",
    "from  statsmodels.api import stats  as sm\n",
    "from statsmodels.formula.api import ols\n",
    "from statsmodels.stats.multicomp import pairwise_tukeyhsd\n",
    "import statsmodels.stats.multicomp as mc\n",
    "from statsmodels.stats.proportion import proportions_ztest as prop\n",
    "from scipy import stats\n",
    "from sklearn.linear_model import ElasticNet,LinearRegression,Ridge,Lasso,LogisticRegression\n",
    "from statsmodels.multivariate.manova import MANOVA \n",
    "import cv2\n",
    "from sklearn.metrics import accuracy_score\n",
    "from sklearn.preprocessing import LabelEncoder"
   ]
  },
  {
   "cell_type": "code",
   "execution_count": 9,
   "metadata": {},
   "outputs": [],
   "source": [
    "train_df = pd.read_csv('train_encoded.csv')\n",
    "test_df = pd.read_csv('test_encoded.csv')"
   ]
  },
  {
   "cell_type": "code",
   "execution_count": 20,
   "metadata": {},
   "outputs": [],
   "source": [
    "#Train test split\n",
    "x_train = train_df[['isStanding', 'roundNum', 'hp', 'armor', 'activeWeapon', 'isAirborne',\n",
    "       'isDucking', 'equipmentValue', 'cash', 'hasHelmet', 'kills_from_avg',\n",
    "       'deaths_from_avg', 'total_hp_enemy', 'total_hp_team', 'num_enemy_alive',\n",
    "       'num_team_alive', 'enemy_in_range_500', 'enemy_in_range_2000',\n",
    "       'enemy_hp_in_range_2000', 'enemy_equipment_in_range_500',\n",
    "       'enemy_equipment_in_range_1000', 'enemy_equipment_in_range_2000',\n",
    "       'team_in_range_200', 'team_in_range_1000', 'equipment_value_team',\n",
    "       'distance_closest_enemy', 'hp_closest_enemy', 'weapon_closest_enemy',\n",
    "       'Player']]\n",
    "\n",
    "x_test = test_df[['isStanding', 'roundNum', 'hp', 'armor', 'activeWeapon', 'isAirborne',\n",
    "       'isDucking', 'equipmentValue', 'cash', 'hasHelmet', 'kills_from_avg',\n",
    "       'deaths_from_avg', 'total_hp_enemy', 'total_hp_team', 'num_enemy_alive',\n",
    "       'num_team_alive', 'enemy_in_range_500', 'enemy_in_range_2000',\n",
    "       'enemy_hp_in_range_2000', 'enemy_equipment_in_range_500',\n",
    "       'enemy_equipment_in_range_1000', 'enemy_equipment_in_range_2000',\n",
    "       'team_in_range_200', 'team_in_range_1000', 'equipment_value_team',\n",
    "       'distance_closest_enemy', 'hp_closest_enemy', 'weapon_closest_enemy',\n",
    "       'Player']]\n",
    "y_train = train_df[[\"isAlive\"]]\n",
    "y_test = test_df[['isAlive']]\n",
    "#factor var - activeweapon, blinded, airborne, ducking, scoped, walking, equipment, helmet, team_equipment, enemy_equipment, \n",
    "#closest enemy distance, weapon closest enemy, hp closest enemy"
   ]
  },
  {
   "cell_type": "markdown",
   "metadata": {},
   "source": []
  },
  {
   "cell_type": "code",
   "execution_count": 21,
   "metadata": {},
   "outputs": [
    {
     "name": "stderr",
     "output_type": "stream",
     "text": [
      "c:\\Users\\Dhruv\\AppData\\Local\\Programs\\Python\\Python310\\lib\\site-packages\\sklearn\\utils\\validation.py:1300: DataConversionWarning: A column-vector y was passed when a 1d array was expected. Please change the shape of y to (n_samples, ), for example using ravel().\n",
      "  y = column_or_1d(y, warn=True)\n",
      "c:\\Users\\Dhruv\\AppData\\Local\\Programs\\Python\\Python310\\lib\\site-packages\\sklearn\\linear_model\\_logistic.py:469: ConvergenceWarning: lbfgs failed to converge (status=1):\n",
      "STOP: TOTAL NO. of ITERATIONS REACHED LIMIT.\n",
      "\n",
      "Increase the number of iterations (max_iter) or scale the data as shown in:\n",
      "    https://scikit-learn.org/stable/modules/preprocessing.html\n",
      "Please also refer to the documentation for alternative solver options:\n",
      "    https://scikit-learn.org/stable/modules/linear_model.html#logistic-regression\n",
      "  n_iter_i = _check_optimize_result(\n"
     ]
    },
    {
     "data": {
      "text/plain": [
       "array([1, 1, 1, ..., 0, 0, 0], dtype=int64)"
      ]
     },
     "execution_count": 21,
     "metadata": {},
     "output_type": "execute_result"
    }
   ],
   "source": [
    "model = LogisticRegression(random_state=1423)\n",
    "model.fit(x_train,y_train)\n",
    "y_pred = model.predict(x_test)\n",
    "y_pred"
   ]
  },
  {
   "cell_type": "code",
   "execution_count": 22,
   "metadata": {},
   "outputs": [
    {
     "name": "stdout",
     "output_type": "stream",
     "text": [
      "93.77740303541316\n"
     ]
    }
   ],
   "source": [
    "acc = accuracy_score(y_test, y_pred)\n",
    "print(acc*100)"
   ]
  },
  {
   "cell_type": "code",
   "execution_count": null,
   "metadata": {},
   "outputs": [],
   "source": []
  }
 ],
 "metadata": {
  "kernelspec": {
   "display_name": "Python 3",
   "language": "python",
   "name": "python3"
  },
  "language_info": {
   "codemirror_mode": {
    "name": "ipython",
    "version": 3
   },
   "file_extension": ".py",
   "mimetype": "text/x-python",
   "name": "python",
   "nbconvert_exporter": "python",
   "pygments_lexer": "ipython3",
   "version": "3.10.5"
  }
 },
 "nbformat": 4,
 "nbformat_minor": 2
}
